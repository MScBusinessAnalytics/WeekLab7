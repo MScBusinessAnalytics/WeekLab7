{
 "cells": [
  {
   "cell_type": "markdown",
   "id": "451472c7-f7b4-47d7-ba06-ed9b4b729727",
   "metadata": {},
   "source": [
    "# Week 11 Demo"
   ]
  },
  {
   "cell_type": "code",
   "execution_count": null,
   "id": "359383be-cb79-4bc7-965a-d6438aa610de",
   "metadata": {},
   "outputs": [],
   "source": []
  }
 ],
 "metadata": {
  "kernelspec": {
   "display_name": "Python 3 (ipykernel)",
   "language": "python",
   "name": "python3"
  },
  "language_info": {
   "codemirror_mode": {
    "name": "ipython",
    "version": 3
   },
   "file_extension": ".py",
   "mimetype": "text/x-python",
   "name": "python",
   "nbconvert_exporter": "python",
   "pygments_lexer": "ipython3",
   "version": "3.9.8"
  }
 },
 "nbformat": 4,
 "nbformat_minor": 5
}
